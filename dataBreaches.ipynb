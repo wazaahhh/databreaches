{
 "metadata": {
  "name": ""
 },
 "nbformat": 3,
 "nbformat_minor": 0,
 "worksheets": [
  {
   "cells": [
    {
     "cell_type": "markdown",
     "metadata": {},
     "source": [
      "### Abstract\n",
      "As a multitude of cyber threats have appeared and developed recently \\cite{}, it has become ever more critical to better characterize cyber risks \\cite{}. Data breaches and personal data loss is one of them, with concrete impact the privacy of millions of people \\cite{}. Data breaches exhibit a heavy-tailed distribution of severity \\cite{}, and the 10 largest events account for more than 50% of all recorded personal data loss. It is therefore critical to characterize the statistical properties of the most extreme events. The Generalized Extreme Value (GEV) theory \\cite{} helps determine the maximum possible personal data loss following a breach event, which is found to be of the order of XX, equivalent to the current number of (Facebook?) users. This result suggests that while unlikely, one single extreme data breach event could affect the privacy of a significant portion of the entire world population."
     ]
    },
    {
     "cell_type": "markdown",
     "metadata": {},
     "source": [
      "###Introduction###\n",
      "** Importance of the research**\n",
      "The world has regularly been disrupted by natural and man-made extreme events, such as earthquakes, floods, wars, nuclear disasters, or financial crises \\cite{}. Human societies have learned and developed methods to prevent damage \\cite{} and to ensure post-crisis resilience \\cite{}. The cornerstore approach to cope with extreme events, consists in designing infrastructures and preparing emergency response according to the anticipated maximum event magnitude, and the expected resulting damage\\cite{}. \n",
      "\n",
      "Similarly, Internet systems are subjected to unexpected disruptive attacks. Most Internet threats are benign and trigger very little or no damage, because systems have been designed and updated (patched) to cope accordingly beforehand \\cite{}. While most threats are begnin, some attacks exhibits large magnitude with potentially large consequences for people and organizations operating online systems. For instance, on December 18, 2013, Target Inc., one of the largest retailers in the United States, reported a data breach involving the theft of $70$ million customer contacts, with addresses, phone numbers, and email addresses, as well as 40 million credit card numbers with expiration dates, PIN and CVV numbers, leaving nearly one third of the Americans unprotected against potential financial and identity frauds \\cite{}. To stress further the importance of extreme events, the ten largest events (over more than 10,000 records) account for more than half of all personal data lost since 2000 (c.f. Table \\ref{blah}). The tail distribution of data breaches has previously been found to obey a power law defined as $P(Loss \\geqslant V) \\sim 1/V^\\mu$, with $\\mu \\approx 0.7$ \\cite{Maillart2010}, with the mean and variance diverging as the number of events $n \\rightarrow \\infty$, as a consequence of ever larger events progressively populating the catalog of recorded events. However, the universe of personal data is necessarily bounded by the human population interacting with electronic systems (The largest presumed database personal data is probably maintained by the US National Security Agency, followed by Facebook and Google). Therefore, the results on data breach risks previously produced \\cite{Maillart2010} should therefore be revisited in the light of the intrinsically limited number users of online services. \n",
      "\n",
      "\n",
      "\n"
     ]
    },
    {
     "cell_type": "markdown",
     "metadata": {},
     "source": [
      "As already explained, determining the maximum possible event magnitude is a crucial aspect risk management and proper emergency response. Here we tackle "
     ]
    },
    {
     "cell_type": "markdown",
     "metadata": {},
     "source": [
      "**[chunk]** As more personal data are acquired, stored online, concentrated and exploited for identification, control, and marketing purposes, the risk of data breaches has become ever more salient, and deserves scrutiny and quantification, for the sake of better consumers' privacy protection"
     ]
    },
    {
     "cell_type": "markdown",
     "metadata": {},
     "source": [
      "**Central Problem**\n",
      "\n",
      "One of the central problems blahlah\n"
     ]
    },
    {
     "cell_type": "markdown",
     "metadata": {},
     "source": [
      "\n",
      "\n"
     ]
    },
    {
     "cell_type": "markdown",
     "metadata": {},
     "source": [
      "###Problem Statement###\n",
      "Most often, data breaches trigger the loss of personal data with operational and legal consequences for leaked organization. These consequences include operational costs \\cite{}, loss of reputation \\cite{}, and in most United States, the obligation to notify and compensate impacted people \\cite{}. The chain of impact and compensations following data breach has been well described by \\cite{ischoollawyeryale}.\n",
      "\n",
      "\n",
      "\n",
      "\n",
      "- Relation betweent the rate of events and the distribution\n",
      "- Determine $M_{max}(T)$  (time-to-return)  => importance of time scale"
     ]
    },
    {
     "cell_type": "markdown",
     "metadata": {},
     "source": [
      "###Method###\n",
      "\n",
      "- we assume all events are independent (no aftershock)\n",
      "- Determine stability of $M_{max}$ over $T$  => Epstein and Lomnitz Method (find $m_{max}$ per time segment?"
     ]
    },
    {
     "cell_type": "markdown",
     "metadata": {},
     "source": [
      "### Conclusion\n",
      "Like for earthquakes, the magnitude of personal data loss gives some indication of the \"energy released\", but limited information on the actual damage (in terms of monetary loss). A better understanding of how these repeated loss-of-control events create systematic and probabilistic monetary losses for organizations and individuals. \n",
      "\n",
      "States (in particular the EU) are preparing laws to better protect consumers against the consequences of data breaches, with foreseable greater financial consequences and risks for organizations storing personal data.\n"
     ]
    },
    {
     "cell_type": "markdown",
     "metadata": {},
     "source": [
      "###Data\n",
      "\n",
      "blah"
     ]
    },
    {
     "cell_type": "markdown",
     "metadata": {},
     "source": [
      "### Load Libraries"
     ]
    },
    {
     "cell_type": "code",
     "collapsed": false,
     "input": [
      "import numpy as np\n",
      "import pandas as pd\n",
      "from scipy import stats,optimize,math\n",
      "import csv\n",
      "from datetime import datetime\n",
      "import boto\n",
      "import json\n",
      "import pandas\n",
      "import time\n",
      "\n",
      "\n",
      "\n",
      "sys.path.append(\"/home/ubuntu/python/\")\n",
      "from tm_python_lib import * \n",
      "\n",
      "projectDir = \"/home/ubuntu/toyCode/rProjects/databreaches/output\""
     ],
     "language": "python",
     "metadata": {},
     "outputs": [],
     "prompt_number": 124
    },
    {
     "cell_type": "markdown",
     "metadata": {},
     "source": [
      "### Configure Graphics"
     ]
    },
    {
     "cell_type": "code",
     "collapsed": false,
     "input": [
      "#size = 15\n",
      "#rc('xtick',labelsize=size)\n",
      "#rc('ytick',labelsize=size)\n",
      "\n",
      "matplotlib.rcParams.update({'font.size': 22})\n"
     ],
     "language": "python",
     "metadata": {},
     "outputs": [],
     "prompt_number": 125
    },
    {
     "cell_type": "markdown",
     "metadata": {},
     "source": [
      "### Load & Prepare Data (new from S3)"
     ]
    },
    {
     "cell_type": "code",
     "collapsed": false,
     "input": [
      "''' Load json from S3'''\n",
      "bucketName = \"databreaches\"\n",
      "s3 = boto.connect_s3()\n",
      "bucket = s3.get_bucket(bucketName)\n",
      "key = bucket.get_key(\"json/data_2014-03-26.json\")\n",
      "data = key.get_contents_as_string()\n",
      "data = json.loads(data)\n",
      "\n",
      "''' Make pandas dataframe'''\n",
      "df = pandas.DataFrame(data).T.sort()\n",
      "df.index = map(int,df.index)\n",
      "df = df.sort_index()\n",
      "\n",
      "'''Replace missing dates by closest date available'''\n",
      "df.date[df.date==-1]=df.discovered[df.date==-1]\n",
      "df.date[df.date==-1]=df.reported[df.date==-1]\n",
      "#df.date[df.date==-1]=df.posted[df.date==-1]\n",
      "\n",
      "incorrectDates = ['1012-11-07','1903-08-20','3007-12-03','2212-08-13']\n",
      "correctedDates = ['2012-11-07',-1,'2007-12-03','2012-08-13']\n",
      "\n",
      "for i,ix in enumerate(incorrectDates):\n",
      "    df.date[df.date==ix] = correctedDates[i]\n",
      "    \n",
      "    \n",
      "'''Create a new column with datestamps'''\n",
      "x= list(df.date.values[df.date.values!=-1])\n",
      "inputFormat = '%Y-%m-%d'\n",
      "x = map(lambda x: datetime.strptime(x,inputFormat),x)\n",
      "timestamps = []\n",
      "for i,ix in enumerate(df.date):\n",
      "    try:\n",
      "        ix = datetime.strptime(ix,inputFormat)\n",
      "        ix = time.mktime(ix.timetuple())\n",
      "        timestamps.append(ix)\n",
      "    except:\n",
      "        timestamps.append(ix)\n",
      "datestamp = np.array(timestamps)/3600/24\n",
      "df['datestamp'] = datestamp\n",
      "\n",
      "'''remove rows for dates < 2000'''\n",
      "t2000 = time.mktime(datetime.strptime(\"2000-01-01\",'%Y-%m-%d').timetuple())/3600/24\n",
      "df = df[df.datestamp > t2000]"
     ],
     "language": "python",
     "metadata": {},
     "outputs": [],
     "prompt_number": 126
    },
    {
     "cell_type": "code",
     "collapsed": false,
     "input": [
      "''' useles function, but keep for now'''\n",
      "\n",
      "def makeTimestamps(listDates,inputFormat = '%Y-%m-%d'):\n",
      "    x = map(lambda x: datetime.strptime(x,inputFormat),listDates)\n",
      "    x = map(lambda x: time.mktime(x.timetuple()),x)\n",
      "    return x\n",
      "\n",
      "x= list(df.date.values[df.date.values!=-1])\n",
      "x2 = makeTimestamps(x)\n",
      "x3 = np.array(x2)/3600/24"
     ],
     "language": "python",
     "metadata": {},
     "outputs": [],
     "prompt_number": 127
    },
    {
     "cell_type": "markdown",
     "metadata": {},
     "source": [
      "### Theoretical Background\n",
      "\n",
      "- Gutenberg-Richter Law: $log N_{T}(m) = a_{T}- bm$, give the number of earthquakes $N_{T}(m)$ with magnitudes $M \\geqslant m$, occurring in a large seismic zone or at the global scale a sufficiently long time period $T$.\n",
      "\n",
      "- GEV distribution function : \n",
      "$$ F(x) = exp \\left\\{-[1+ (\\xi/s) \\cdot (x-m)]^{-1/\\xi}\\right\\};~1+(\\xi/s) \\cdot (x-m) > 0; ~\\xi \\neq 0;$$\n",
      "$$ F(x) = exp \\left\\{- exp [- (x-m)/s]\\right\\}; ~\\xi = 0,$$"
     ]
    },
    {
     "cell_type": "markdown",
     "metadata": {},
     "source": [
      "##### inverse GEV function\n",
      "\n",
      "d"
     ]
    },
    {
     "cell_type": "code",
     "collapsed": false,
     "input": [
      "#GEV = np.exp(-(1+(xi*(x-m)/s))**(-1/xi))\n",
      "#sample = -(np.log(Fx)**(-xi) +1)*s/xi + m "
     ],
     "language": "python",
     "metadata": {},
     "outputs": [],
     "prompt_number": 128
    },
    {
     "cell_type": "markdown",
     "metadata": {},
     "source": [
      "### Assumptions\n",
      "\n",
      "- All events are iid (independently identically distributed random variables)\n",
      "- the maximum loss is bounded : $m_k \\leqslant M_max = m-s/\\xi; \\xi < 0$"
     ]
    },
    {
     "cell_type": "markdown",
     "metadata": {},
     "source": [
      "### Practical Considerations\n",
      "\n",
      "- because the rate of events is not constant, we use a modified time scale, insensitive to changes of regimes, which is simply the count of events.\n",
      "\n",
      "- we are mainly concerned with T-maxima (maxima within a time window of size T events)\n",
      "- Because the number $n$ of $T$-maxima in not large, it is important to ask if the Maximum Likelihood Estimates (MLE) is the most efficient, compared to other methods such as Moment Estimates (ME) and estimates based on Probability-Weighted Moments.\n",
      "\n"
     ]
    },
    {
     "cell_type": "markdown",
     "metadata": {},
     "source": [
      "### Method\n",
      "\n",
      "#### Generalized Extreme Value (GEV) theory\n",
      "- take maximum size events $m_k$ that occurred in $n$ time intervals ($t_1$,$t_n$), $n \\approx (t_N -t_1)/N$\n",
      "- use distribution of T-maxima (large magnitude filter) as a function of $T$\n",
      "- estimation of the Three Parameters ($m,s,\\xi$) of the GEV Distribution of T-maxima $m_k$\n",
      "\n",
      "\n"
     ]
    },
    {
     "cell_type": "markdown",
     "metadata": {},
     "source": [
      "#### Some tests"
     ]
    },
    {
     "cell_type": "code",
     "collapsed": false,
     "input": [
      "df.head()"
     ],
     "language": "python",
     "metadata": {},
     "outputs": [
      {
       "html": [
        "<div style=\"max-height:1000px;max-width:1500px;overflow:auto;\">\n",
        "<table border=\"1\" class=\"dataframe\">\n",
        "  <thead>\n",
        "    <tr style=\"text-align: right;\">\n",
        "      <th></th>\n",
        "      <th>date</th>\n",
        "      <th>discovered</th>\n",
        "      <th>id</th>\n",
        "      <th>posted</th>\n",
        "      <th>records</th>\n",
        "      <th>reported</th>\n",
        "      <th>datestamp</th>\n",
        "    </tr>\n",
        "  </thead>\n",
        "  <tbody>\n",
        "    <tr>\n",
        "      <th>6 </th>\n",
        "      <td> 2000-01-10</td>\n",
        "      <td> -1</td>\n",
        "      <td>  6</td>\n",
        "      <td> -1</td>\n",
        "      <td> 300000</td>\n",
        "      <td> 2000-01-10</td>\n",
        "      <td> 10966</td>\n",
        "    </tr>\n",
        "    <tr>\n",
        "      <th>7 </th>\n",
        "      <td> 2000-11-14</td>\n",
        "      <td> -1</td>\n",
        "      <td>  7</td>\n",
        "      <td> -1</td>\n",
        "      <td>  15700</td>\n",
        "      <td> 2000-11-14</td>\n",
        "      <td> 11275</td>\n",
        "    </tr>\n",
        "    <tr>\n",
        "      <th>8 </th>\n",
        "      <td> 2000-11-15</td>\n",
        "      <td> -1</td>\n",
        "      <td>  8</td>\n",
        "      <td> -1</td>\n",
        "      <td>    700</td>\n",
        "      <td> 2000-11-15</td>\n",
        "      <td> 11276</td>\n",
        "    </tr>\n",
        "    <tr>\n",
        "      <th>9 </th>\n",
        "      <td> 2000-11-15</td>\n",
        "      <td> -1</td>\n",
        "      <td>  9</td>\n",
        "      <td> -1</td>\n",
        "      <td>  51000</td>\n",
        "      <td> 2000-11-15</td>\n",
        "      <td> 11276</td>\n",
        "    </tr>\n",
        "    <tr>\n",
        "      <th>10</th>\n",
        "      <td> 2000-12-09</td>\n",
        "      <td> -1</td>\n",
        "      <td> 10</td>\n",
        "      <td> -1</td>\n",
        "      <td>   4000</td>\n",
        "      <td> 2000-12-09</td>\n",
        "      <td> 11300</td>\n",
        "    </tr>\n",
        "  </tbody>\n",
        "</table>\n",
        "</div>"
       ],
       "metadata": {},
       "output_type": "pyout",
       "prompt_number": 129,
       "text": [
        "          date discovered  id posted records    reported  datestamp\n",
        "6   2000-01-10         -1   6     -1  300000  2000-01-10      10966\n",
        "7   2000-11-14         -1   7     -1   15700  2000-11-14      11275\n",
        "8   2000-11-15         -1   8     -1     700  2000-11-15      11276\n",
        "9   2000-11-15         -1   9     -1   51000  2000-11-15      11276\n",
        "10  2000-12-09         -1  10     -1    4000  2000-12-09      11300"
       ]
      }
     ],
     "prompt_number": 129
    },
    {
     "cell_type": "code",
     "collapsed": false,
     "input": [
      "df.plot(x='datestamp', y='records', style='o',logx=False,logy=True)"
     ],
     "language": "python",
     "metadata": {},
     "outputs": [
      {
       "metadata": {},
       "output_type": "pyout",
       "prompt_number": 130,
       "text": [
        "<matplotlib.axes.AxesSubplot at 0x82050d0>"
       ]
      },
      {
       "metadata": {},
       "output_type": "display_data",
       "png": "[encoded data removed]",
       "text": [
        "<matplotlib.figure.Figure at 0x8e5c750>"
       ]
      }
     ],
     "prompt_number": 130
    },
    {
     "cell_type": "code",
     "collapsed": false,
     "input": [
      "df.date[(df.datestamp==df.datestamp.max())]"
     ],
     "language": "python",
     "metadata": {},
     "outputs": [
      {
       "metadata": {},
       "output_type": "pyout",
       "prompt_number": 131,
       "text": [
        "12155    2014-03-24\n",
        "12172    2014-03-24\n",
        "12173    2014-03-24\n",
        "Name: date, dtype: object"
       ]
      }
     ],
     "prompt_number": 131
    },
    {
     "cell_type": "markdown",
     "metadata": {},
     "source": [
      "### Generalized Extreme Value (GEV) Theory"
     ]
    },
    {
     "cell_type": "code",
     "collapsed": false,
     "input": [
      "'''Method of Moments (c.f. Appendix B, Pisarenko et al. 2008)'''\n",
      "\n",
      "def ThreeMoments(sample):\n",
      "    n = len(sample)\n",
      "    M1 = (1./n)*np.sum(sample)\n",
      "    M2 = (1./n)*np.sum((sample-M1)**2)\n",
      "    #print M2,(1./n)*np.sum((sample)**2) - M1**2\n",
      "    M3 = (1./n)*np.sum((sample-M1)**3)\n",
      "    #print M1,M2,M3\n",
      "    return {'M1':M1,'M2':M2,'M3':M3}"
     ],
     "language": "python",
     "metadata": {},
     "outputs": [],
     "prompt_number": 132
    },
    {
     "cell_type": "code",
     "collapsed": false,
     "input": [
      "def randGEV(m,s,xi,n):\n",
      "    '''GEV distribution function'''\n",
      "    Fx = np.random.rand(n)\n",
      "\n",
      "    sample = []\n",
      "    i=0\n",
      "    while i<n:\n",
      "        value = -((np.log(np.random.rand())+1)**(-xi))*s/xi + m\n",
      "        if not np.isnan(value):\n",
      "            sample.append(value)\n",
      "            i+=1\n",
      "            \n",
      "    return np.array(sample)"
     ],
     "language": "python",
     "metadata": {},
     "outputs": [],
     "prompt_number": 133
    },
    {
     "cell_type": "code",
     "collapsed": false,
     "input": [
      "x= np.arange(100)\n",
      "y = np.exp(-x-1)\n",
      "plot(x,log(y))"
     ],
     "language": "python",
     "metadata": {},
     "outputs": [
      {
       "metadata": {},
       "output_type": "pyout",
       "prompt_number": 134,
       "text": [
        "[<matplotlib.lines.Line2D at 0x78b0d50>]"
       ]
      },
      {
       "metadata": {},
       "output_type": "display_data",
       "png": "[encoded data removed]",
       "text": [
        "<matplotlib.figure.Figure at 0x68ce190>"
       ]
      }
     ],
     "prompt_number": 134
    },
    {
     "cell_type": "code",
     "collapsed": false,
     "input": [
      "xi = -1.\n",
      "m = 7.5\n",
      "s = 0.4\n",
      "\n",
      "x = 1\n",
      "\n",
      "Mmax = m - s/xi\n",
      "print Mmax\n",
      "\n",
      "#GEV = np.exp(-(1+(xi*(x-m)/s))**(-1/xi))\n",
      "#print -(1+(xi*(x-m)/s))**(-1/xi)\n",
      "#print GEV\n",
      "n = 1000\n",
      "sample = randGEV(m,s,xi,n)\n",
      "#print np.round(sample,2)\n",
      "\n",
      "M = ThreeMoments(sample)\n",
      "\n",
      "print M\n",
      "\n",
      "x,y = rankorder(sample)\n",
      "plot(x,y,'o')"
     ],
     "language": "python",
     "metadata": {},
     "outputs": [
      {
       "output_type": "stream",
       "stream": "stdout",
       "text": [
        "7.9\n",
        "{'M1': 7.5086889024063588, 'M3': -0.11782626705132995, 'M2': 0.16266368186612992}\n"
       ]
      },
      {
       "metadata": {},
       "output_type": "pyout",
       "prompt_number": 135,
       "text": [
        "[<matplotlib.lines.Line2D at 0x87f2b90>]"
       ]
      },
      {
       "metadata": {},
       "output_type": "display_data",
       "png": "[encoded data removed]",
       "text": [
        "<matplotlib.figure.Figure at 0xd452f50>"
       ]
      }
     ],
     "prompt_number": 135
    },
    {
     "cell_type": "code",
     "collapsed": false,
     "input": [
      "def findTmaxima(df,T=100):\n",
      "    dates = np.array(df.datestamp)\n",
      "    \n",
      "    #bins = np.linspace(0,len(dates),n)\n",
      "    bins = np.arange(0,len(dates)+1,T)\n",
      "    \n",
      "    #T = bins[1]-bins[0]\n",
      "    groups = df.groupby(np.digitize(df.index, bins))\n",
      "    \n",
      "    Tmaxima = np.array(groups.max().records)\n",
      "    logTmaxima = np.log10(Tmaxima)\n",
      "    \n",
      "    return {'Tmaxima':Tmaxima, 'logTmaxima' : logTmaxima,'T' : T}\n",
      "\n",
      "    \n",
      "def fitGEVmoments(logTmaxima,xiRange):\n",
      "    \n",
      "    M = ThreeMoments(logTmaxima)\n",
      "    \n",
      "    results = {'xi' : 0, 'sME' : 0, 'mME' : 0, 'Mmax' : 0, 'diffM3' : 100}\n",
      "    \n",
      "    for xi in xiRange:\n",
      "        sME = ((M['M2']*xi**2)/(math.gamma(1-2*xi)-(math.gamma(1-xi))**2))**(1/2.)\n",
      "        M3 = (sME**3)*(-2*(math.gamma(-xi))**3-(6/xi)*math.gamma(-xi)*math.gamma(-2*xi)-(3/xi**2)*math.gamma(-3*xi))\n",
      "        mME = sME/xi-(sME/xi)*math.gamma(1-xi)+M['M1']\n",
      "        Mmax = mME - sME/xi\n",
      "        diff = np.abs(M3-M['M3'])\n",
      "                \n",
      "        if diff < results['diffM3']:\n",
      "            results['diffM3'] = diff\n",
      "            results['xi'] = xi\n",
      "            results['mME'] = mME\n",
      "            results['sME'] = sME\n",
      "            results['Mmax'] = Mmax          \n",
      "    return results\n",
      "\n",
      "def  bootstrapGEVmoments(logTmaxima,xiRange,error=0.01):\n",
      "    XI = []\n",
      "    M = []\n",
      "    S = []\n",
      "    MAX = []\n",
      "        \n",
      "    L = fitGEVmoments(logTmaxima,xiRange)\n",
      "    n = len(logTmaxima)\n",
      "    print L['xi'],L['mME'],L['sME'],L['Mmax'],n\n",
      "    \n",
      "    N = 1/4.*error**(-2)\n",
      "    print \"generating %s bootstraps\"%N\n",
      "    i=0\n",
      "    while i<N:\n",
      "        i+=1    \n",
      "        sample = randGEV(L['mME'],L['sME'],L['xi'],n)\n",
      "        results = fitGEVmoments(sample,xiRange)\n",
      "        \n",
      "        XI.append(results['xi'])\n",
      "        M.append(results['mME'])\n",
      "        S.append(results['sME'])\n",
      "        MAX.append(results['Mmax'])\n",
      "        \n",
      "        #print np.round([results['xi'],results['mME'],results['sME'],results['Mmax']],2)\n",
      "    print np.round([np.mean(XI),np.mean(M),np.mean(S),np.mean(MAX)],2)\n",
      "    print np.round([np.std(XI),np.std(M),np.std(S),np.std(MAX)],2)\n",
      "    \n",
      "    print 10**(np.mean(MAX)+np.array([-0.06,0.06]))\n",
      "    \n",
      "    results = {'xiMean': np.mean(XI),'xiStd' : np.std(XI),'mMean': np.mean(M), 'mStd' : np.std(M),'sMean' : np.mean(S), 'sStd': np.std(S),'maxMean': np.mean(MAX),'maxStd' : np.std(MAX),'nPoints' : n}\n",
      "    \n",
      "    return results\n",
      "    \n",
      "\n",
      "def xi_vs_nRange(df,Trange,xiRange):    \n",
      "    #N = []\n",
      "    T = []\n",
      "\n",
      "    results = {}\n",
      "    \n",
      "    for t in Trange:\n",
      "        \n",
      "        periods = findTmaxima(df,T=t)\n",
      "        logTmaxima = periods['logTmaxima']\n",
      "\n",
      "        res = bootstrapGEVmoments(logTmaxima,xiRange)\n",
      "        \n",
      "        results[t] = res\n",
      "        #print n,t,fitGEVmoments(logTmaxima,xiRange)\n",
      "        #print n,xi\n",
      "    return results\n",
      "        "
     ],
     "language": "python",
     "metadata": {},
     "outputs": [],
     "prompt_number": 156
    },
    {
     "cell_type": "code",
     "collapsed": false,
     "input": [
      "'''Find T-maxima samples for a given number n periods'''\n",
      "\n",
      "dates = np.array(df.datestamp)\n",
      "#n = 100\n",
      "T = 150\n",
      "\n",
      "#print min(dates),max(dates)\n",
      "#bins = np.linspace(min(dates)-1,max(dates)+1,n)+np.random.rand(n)\n",
      "#np.histogram(dates,bins)\n",
      "#len(dates)\n",
      "\n",
      "#bins = np.linspace(0,len(dates),n)\n",
      "bins = np.arange(0,len(dates)+1,T)\n",
      "\n",
      "#test = np.digitize(df.datestamp, bins)\n",
      "groups = df.groupby(np.digitize(df.index, bins))\n",
      "#groups = df.groupby(pandas.cut(df.index, bins))\n",
      "\n",
      "#print len(groups.max().records)\n",
      "#print groups.max().records\n",
      "\n",
      "Tmaxima = np.array(groups.max().records)\n",
      "logTmaxima = np.log10(Tmaxima)\n",
      "print len(Tmaxima)\n",
      "#print Tmaxima\n"
     ],
     "language": "python",
     "metadata": {},
     "outputs": [
      {
       "output_type": "stream",
       "stream": "stdout",
       "text": [
        "77\n"
       ]
      }
     ],
     "prompt_number": 137
    },
    {
     "cell_type": "code",
     "collapsed": false,
     "input": [
      "xi = -1.\n",
      "m = 7.5\n",
      "s = 0.4\n",
      "Mmax = m - s/xi\n",
      "print Mmax\n",
      "n = 500\n",
      "xiRange = np.arange(-2,0,0.05)\n",
      "i=0\n",
      "\n",
      "XI = []\n",
      "M = []\n",
      "S = []\n",
      "MAX = []\n",
      "\n",
      "error = 0.01\n",
      "\n",
      "\n",
      "L = fitGEVmoments(logTmaxima,xiRange)\n",
      "n = len(logTmaxima)\n",
      "print L['xi'],L['mME'],L['sME'],L['Mmax'],n\n",
      "\n",
      "N = 1/4.*error**(-2)\n",
      "print \"generating %s bootstraps\"%N\n",
      "\n",
      "while i<N:\n",
      "    i+=1    \n",
      "    sample = randGEV(L['mME'],L['sME'],L['xi'],n)\n",
      "    results = fitGEVmoments(sample,xiRange)\n",
      "    \n",
      "    XI.append(results['xi'])\n",
      "    M.append(results['mME'])\n",
      "    S.append(results['sME'])\n",
      "    MAX.append(results['Mmax'])\n",
      "    \n",
      "    #print np.round([results['xi'],results['mME'],results['sME'],results['Mmax']],2)\n",
      "print np.round([np.mean(XI),np.mean(M),np.mean(S),np.mean(MAX)],2)\n",
      "print np.round([np.std(XI),np.std(M),np.std(S),np.std(MAX)],2)\n",
      "\n",
      "10**(np.mean(MAX)+np.array([-0.06,0.06]))"
     ],
     "language": "python",
     "metadata": {},
     "outputs": [
      {
       "output_type": "stream",
       "stream": "stdout",
       "text": [
        "7.9\n",
        "-0.35 6.28429248888 0.962360391438 9.03389360727 77\n",
        "generating 2500.0 bootstraps\n",
        "[-0.69  8.4   0.53  9.18]"
       ]
      },
      {
       "output_type": "stream",
       "stream": "stdout",
       "text": [
        "\n",
        "[ 0.1   0.07  0.05  0.08]\n"
       ]
      },
      {
       "metadata": {},
       "output_type": "pyout",
       "prompt_number": 138,
       "text": [
        "array([  1.31330876e+09,   1.73127812e+09])"
       ]
      }
     ],
     "prompt_number": 138
    },
    {
     "cell_type": "code",
     "collapsed": false,
     "input": [
      "results = xi_vs_nRange(df,[30,60,100,150,200,350,500],np.arange(-2,0,0.05))"
     ],
     "language": "python",
     "metadata": {},
     "outputs": [
      {
       "output_type": "stream",
       "stream": "stdout",
       "text": [
        "-0.2 4.88172905259 1.07642679576 10.2638630314 384\n",
        "generating 2500.0 bootstraps\n",
        "[ -0.84   9.51   0.71  10.37]"
       ]
      },
      {
       "output_type": "stream",
       "stream": "stdout",
       "text": [
        "\n",
        "[ 0.06  0.05  0.04  0.05]\n",
        "[  2.02298355e+10   2.66681170e+10]\n",
        "-0.25"
       ]
      },
      {
       "output_type": "stream",
       "stream": "stdout",
       "text": [
        " 5.51860027511 1.03792615132 9.67030488039 192\n",
        "generating 2500.0 bootstraps\n",
        "[-0.78  8.95  0.65  9.79]"
       ]
      },
      {
       "output_type": "stream",
       "stream": "stdout",
       "text": [
        "\n",
        "[ 0.07  0.06  0.05  0.06]\n",
        "[  5.37673970e+09   7.08792334e+09]\n",
        "-0.3"
       ]
      },
      {
       "output_type": "stream",
       "stream": "stdout",
       "text": [
        " 5.96459152219 0.982423272512 9.2393357639 116\n",
        "generating 2500.0 bootstraps\n",
        "[-0.73  8.57  0.58  9.37]"
       ]
      },
      {
       "output_type": "stream",
       "stream": "stdout",
       "text": [
        "\n",
        "[ 0.09  0.07  0.05  0.06]\n",
        "[  2.04961244e+09   2.70191541e+09]\n",
        "-0.35"
       ]
      },
      {
       "output_type": "stream",
       "stream": "stdout",
       "text": [
        " 6.28429248888 0.962360391438 9.03389360727 77\n",
        "generating 2500.0 bootstraps\n",
        "[-0.69  8.39  0.53  9.18]"
       ]
      },
      {
       "output_type": "stream",
       "stream": "stdout",
       "text": [
        "\n",
        "[ 0.1   0.08  0.05  0.08]\n",
        "[  1.31582595e+09   1.73459642e+09]\n",
        "-0.4"
       ]
      },
      {
       "output_type": "stream",
       "stream": "stdout",
       "text": [
        " 6.45391902869 0.952418687813 8.83496574822 58\n",
        "generating 2500.0 bootstraps\n",
        "[-0.65  8.21  0.5   8.99]"
       ]
      },
      {
       "output_type": "stream",
       "stream": "stdout",
       "text": [
        "\n",
        "[ 0.1   0.08  0.05  0.09]\n",
        "[  8.55741866e+08   1.12808748e+09]\n",
        "-0.45"
       ]
      },
      {
       "output_type": "stream",
       "stream": "stdout",
       "text": [
        " 6.99067443008 0.760526030671 8.68073227601 33\n",
        "generating 2500.0 bootstraps\n",
        "[-0.61  8.19  0.37  8.83]"
       ]
      },
      {
       "output_type": "stream",
       "stream": "stdout",
       "text": [
        "\n",
        "[ 0.13  0.08  0.05  0.1 ]\n",
        "[  5.87659634e+08   7.74686272e+08]\n",
        "-0.45"
       ]
      },
      {
       "output_type": "stream",
       "stream": "stdout",
       "text": [
        " 7.06772561073 0.72634001115 8.6818145244 24\n",
        "generating 2500.0 bootstraps\n",
        "[-0.6   8.21  0.35  8.84]"
       ]
      },
      {
       "output_type": "stream",
       "stream": "stdout",
       "text": [
        "\n",
        "[ 0.15  0.09  0.06  0.11]\n",
        "[  5.96076167e+08   7.85781423e+08]\n"
       ]
      }
     ],
     "prompt_number": 158
    },
    {
     "cell_type": "code",
     "collapsed": false,
     "input": [
      "results = pandas.DataFrame(results).transpose()\n",
      "print results"
     ],
     "language": "python",
     "metadata": {},
     "outputs": [
      {
       "output_type": "stream",
       "stream": "stdout",
       "text": [
        "        mMean      mStd    maxMean    maxStd  nPoints     sMean      sStd  \\\n",
        "30   9.509482  0.046374  10.365992  0.046073      384  0.712383  0.039207   \n",
        "60   8.951780  0.058375   9.790519  0.055954      192  0.648820  0.046646   \n",
        "100  8.573695  0.066553   9.371672  0.064132      116  0.577365  0.050340   \n",
        "150  8.392635  0.076106   9.179198  0.077067       77  0.533753  0.052685   \n",
        "200  8.213635  0.081554   8.992343  0.088020       58  0.495319  0.054433   \n",
        "350  8.191898  0.079582   8.829126  0.095372       33  0.371736  0.051647   \n",
        "500  8.213792  0.088478   8.835302  0.113778       24  0.348602  0.057350   \n",
        "\n",
        "      xiMean     xiStd  \n",
        "30  -0.83674  0.062009  \n",
        "60  -0.78074  0.073199  \n",
        "100 -0.73366  0.085732  \n",
        "150 -0.69232  0.095452  \n",
        "200 -0.65296  0.104533  \n",
        "350 -0.60908  0.125935  \n",
        "500 -0.59538  0.146525  \n"
       ]
      }
     ],
     "prompt_number": 162
    },
    {
     "cell_type": "code",
     "collapsed": false,
     "input": [
      "\n",
      "variable = 'max'\n",
      "plot(results[variable + 'Mean'].index,results[variable + 'Mean'],'b-')\n",
      "plot(results[variable + 'Mean'].index,results[variable + 'Mean'] + results[variable + 'Std'],'r-')\n",
      "plot(results[variable + 'Mean'].index,results[variable + 'Mean'] - results[variable + 'Std'],'r-')\n",
      "xlabel(\"T,interval for Mmax_{t},days\")\n",
      "ylabel(variable)"
     ],
     "language": "python",
     "metadata": {},
     "outputs": [
      {
       "metadata": {},
       "output_type": "pyout",
       "prompt_number": 150,
       "text": [
        "<matplotlib.text.Text at 0xf8fbc90>"
       ]
      },
      {
       "metadata": {},
       "output_type": "display_data",
       "png": "[encoded data removed]",
       "text": [
        "<matplotlib.figure.Figure at 0x97fe450>"
       ]
      }
     ],
     "prompt_number": 150
    },
    {
     "cell_type": "code",
     "collapsed": false,
     "input": [
      "10**(results['maxMean']+ results['maxStd'])"
     ],
     "language": "python",
     "metadata": {},
     "outputs": [
      {
       "metadata": {},
       "output_type": "pyout",
       "prompt_number": 164,
       "text": [
        "30     2.582648e+10\n",
        "60     7.022198e+09\n",
        "100    2.727743e+09\n",
        "150    1.804120e+09\n",
        "200    1.203269e+09\n",
        "350    8.404238e+08\n",
        "500    8.893637e+08\n",
        "dtype: float64"
       ]
      }
     ],
     "prompt_number": 164
    },
    {
     "cell_type": "code",
     "collapsed": false,
     "input": [
      "x,y = rankorder(logTmaxima)\n",
      "figure(1,(8,8))\n",
      "plot(x,y,'o')\n",
      "\n",
      "xi = results['xi']\n",
      "m = results['mME']\n",
      "s = results['sME']\n",
      "\n",
      "print xi,m,s\n",
      "testSample = randGEV(m,s,xi,len(x))\n",
      "xTest,yTest= rankorder(testSample)\n",
      "#print xTest\n",
      "plot(xTest,yTest,'r+')\n",
      "#xlim(min(x),max(x))\n",
      "#s = 0.5\n"
     ],
     "language": "python",
     "metadata": {},
     "outputs": [
      {
       "ename": "KeyError",
       "evalue": "u'no item named xi'",
       "output_type": "pyerr",
       "traceback": [
        "\u001b[1;31m---------------------------------------------------------------------------\u001b[0m\n\u001b[1;31mKeyError\u001b[0m                                  Traceback (most recent call last)",
        "\u001b[1;32m<ipython-input-142-2d442f21e273>\u001b[0m in \u001b[0;36m<module>\u001b[1;34m()\u001b[0m\n\u001b[0;32m      3\u001b[0m \u001b[0mplot\u001b[0m\u001b[1;33m(\u001b[0m\u001b[0mx\u001b[0m\u001b[1;33m,\u001b[0m\u001b[0my\u001b[0m\u001b[1;33m,\u001b[0m\u001b[1;34m'o'\u001b[0m\u001b[1;33m)\u001b[0m\u001b[1;33m\u001b[0m\u001b[0m\n\u001b[0;32m      4\u001b[0m \u001b[1;33m\u001b[0m\u001b[0m\n\u001b[1;32m----> 5\u001b[1;33m \u001b[0mxi\u001b[0m \u001b[1;33m=\u001b[0m \u001b[0mresults\u001b[0m\u001b[1;33m[\u001b[0m\u001b[1;34m'xi'\u001b[0m\u001b[1;33m]\u001b[0m\u001b[1;33m\u001b[0m\u001b[0m\n\u001b[0m\u001b[0;32m      6\u001b[0m \u001b[0mm\u001b[0m \u001b[1;33m=\u001b[0m \u001b[0mresults\u001b[0m\u001b[1;33m[\u001b[0m\u001b[1;34m'mME'\u001b[0m\u001b[1;33m]\u001b[0m\u001b[1;33m\u001b[0m\u001b[0m\n\u001b[0;32m      7\u001b[0m \u001b[0ms\u001b[0m \u001b[1;33m=\u001b[0m \u001b[0mresults\u001b[0m\u001b[1;33m[\u001b[0m\u001b[1;34m'sME'\u001b[0m\u001b[1;33m]\u001b[0m\u001b[1;33m\u001b[0m\u001b[0m\n",
        "\u001b[1;32m/usr/local/lib/python2.7/dist-packages/pandas/core/frame.pyc\u001b[0m in \u001b[0;36m__getitem__\u001b[1;34m(self, key)\u001b[0m\n\u001b[0;32m   2001\u001b[0m             \u001b[1;31m# get column\u001b[0m\u001b[1;33m\u001b[0m\u001b[1;33m\u001b[0m\u001b[0m\n\u001b[0;32m   2002\u001b[0m             \u001b[1;32mif\u001b[0m \u001b[0mself\u001b[0m\u001b[1;33m.\u001b[0m\u001b[0mcolumns\u001b[0m\u001b[1;33m.\u001b[0m\u001b[0mis_unique\u001b[0m\u001b[1;33m:\u001b[0m\u001b[1;33m\u001b[0m\u001b[0m\n\u001b[1;32m-> 2003\u001b[1;33m                 \u001b[1;32mreturn\u001b[0m \u001b[0mself\u001b[0m\u001b[1;33m.\u001b[0m\u001b[0m_get_item_cache\u001b[0m\u001b[1;33m(\u001b[0m\u001b[0mkey\u001b[0m\u001b[1;33m)\u001b[0m\u001b[1;33m\u001b[0m\u001b[0m\n\u001b[0m\u001b[0;32m   2004\u001b[0m \u001b[1;33m\u001b[0m\u001b[0m\n\u001b[0;32m   2005\u001b[0m             \u001b[1;31m# duplicate columns\u001b[0m\u001b[1;33m\u001b[0m\u001b[1;33m\u001b[0m\u001b[0m\n",
        "\u001b[1;32m/usr/local/lib/python2.7/dist-packages/pandas/core/generic.pyc\u001b[0m in \u001b[0;36m_get_item_cache\u001b[1;34m(self, item)\u001b[0m\n\u001b[0;32m    665\u001b[0m             \u001b[1;32mreturn\u001b[0m \u001b[0mcache\u001b[0m\u001b[1;33m[\u001b[0m\u001b[0mitem\u001b[0m\u001b[1;33m]\u001b[0m\u001b[1;33m\u001b[0m\u001b[0m\n\u001b[0;32m    666\u001b[0m         \u001b[1;32mexcept\u001b[0m \u001b[0mException\u001b[0m\u001b[1;33m:\u001b[0m\u001b[1;33m\u001b[0m\u001b[0m\n\u001b[1;32m--> 667\u001b[1;33m             \u001b[0mvalues\u001b[0m \u001b[1;33m=\u001b[0m \u001b[0mself\u001b[0m\u001b[1;33m.\u001b[0m\u001b[0m_data\u001b[0m\u001b[1;33m.\u001b[0m\u001b[0mget\u001b[0m\u001b[1;33m(\u001b[0m\u001b[0mitem\u001b[0m\u001b[1;33m)\u001b[0m\u001b[1;33m\u001b[0m\u001b[0m\n\u001b[0m\u001b[0;32m    668\u001b[0m             \u001b[0mres\u001b[0m \u001b[1;33m=\u001b[0m \u001b[0mself\u001b[0m\u001b[1;33m.\u001b[0m\u001b[0m_box_item_values\u001b[0m\u001b[1;33m(\u001b[0m\u001b[0mitem\u001b[0m\u001b[1;33m,\u001b[0m \u001b[0mvalues\u001b[0m\u001b[1;33m)\u001b[0m\u001b[1;33m\u001b[0m\u001b[0m\n\u001b[0;32m    669\u001b[0m             \u001b[0mcache\u001b[0m\u001b[1;33m[\u001b[0m\u001b[0mitem\u001b[0m\u001b[1;33m]\u001b[0m \u001b[1;33m=\u001b[0m \u001b[0mres\u001b[0m\u001b[1;33m\u001b[0m\u001b[0m\n",
        "\u001b[1;32m/usr/local/lib/python2.7/dist-packages/pandas/core/internals.pyc\u001b[0m in \u001b[0;36mget\u001b[1;34m(self, item)\u001b[0m\n\u001b[0;32m   1653\u001b[0m     \u001b[1;32mdef\u001b[0m \u001b[0mget\u001b[0m\u001b[1;33m(\u001b[0m\u001b[0mself\u001b[0m\u001b[1;33m,\u001b[0m \u001b[0mitem\u001b[0m\u001b[1;33m)\u001b[0m\u001b[1;33m:\u001b[0m\u001b[1;33m\u001b[0m\u001b[0m\n\u001b[0;32m   1654\u001b[0m         \u001b[1;32mif\u001b[0m \u001b[0mself\u001b[0m\u001b[1;33m.\u001b[0m\u001b[0mitems\u001b[0m\u001b[1;33m.\u001b[0m\u001b[0mis_unique\u001b[0m\u001b[1;33m:\u001b[0m\u001b[1;33m\u001b[0m\u001b[0m\n\u001b[1;32m-> 1655\u001b[1;33m             \u001b[0m_\u001b[0m\u001b[1;33m,\u001b[0m \u001b[0mblock\u001b[0m \u001b[1;33m=\u001b[0m \u001b[0mself\u001b[0m\u001b[1;33m.\u001b[0m\u001b[0m_find_block\u001b[0m\u001b[1;33m(\u001b[0m\u001b[0mitem\u001b[0m\u001b[1;33m)\u001b[0m\u001b[1;33m\u001b[0m\u001b[0m\n\u001b[0m\u001b[0;32m   1656\u001b[0m             \u001b[1;32mreturn\u001b[0m \u001b[0mblock\u001b[0m\u001b[1;33m.\u001b[0m\u001b[0mget\u001b[0m\u001b[1;33m(\u001b[0m\u001b[0mitem\u001b[0m\u001b[1;33m)\u001b[0m\u001b[1;33m\u001b[0m\u001b[0m\n\u001b[0;32m   1657\u001b[0m         \u001b[1;32melse\u001b[0m\u001b[1;33m:\u001b[0m\u001b[1;33m\u001b[0m\u001b[0m\n",
        "\u001b[1;32m/usr/local/lib/python2.7/dist-packages/pandas/core/internals.pyc\u001b[0m in \u001b[0;36m_find_block\u001b[1;34m(self, item)\u001b[0m\n\u001b[0;32m   1933\u001b[0m \u001b[1;33m\u001b[0m\u001b[0m\n\u001b[0;32m   1934\u001b[0m     \u001b[1;32mdef\u001b[0m \u001b[0m_find_block\u001b[0m\u001b[1;33m(\u001b[0m\u001b[0mself\u001b[0m\u001b[1;33m,\u001b[0m \u001b[0mitem\u001b[0m\u001b[1;33m)\u001b[0m\u001b[1;33m:\u001b[0m\u001b[1;33m\u001b[0m\u001b[0m\n\u001b[1;32m-> 1935\u001b[1;33m         \u001b[0mself\u001b[0m\u001b[1;33m.\u001b[0m\u001b[0m_check_have\u001b[0m\u001b[1;33m(\u001b[0m\u001b[0mitem\u001b[0m\u001b[1;33m)\u001b[0m\u001b[1;33m\u001b[0m\u001b[0m\n\u001b[0m\u001b[0;32m   1936\u001b[0m         \u001b[1;32mfor\u001b[0m \u001b[0mi\u001b[0m\u001b[1;33m,\u001b[0m \u001b[0mblock\u001b[0m \u001b[1;32min\u001b[0m \u001b[0menumerate\u001b[0m\u001b[1;33m(\u001b[0m\u001b[0mself\u001b[0m\u001b[1;33m.\u001b[0m\u001b[0mblocks\u001b[0m\u001b[1;33m)\u001b[0m\u001b[1;33m:\u001b[0m\u001b[1;33m\u001b[0m\u001b[0m\n\u001b[0;32m   1937\u001b[0m             \u001b[1;32mif\u001b[0m \u001b[0mitem\u001b[0m \u001b[1;32min\u001b[0m \u001b[0mblock\u001b[0m\u001b[1;33m:\u001b[0m\u001b[1;33m\u001b[0m\u001b[0m\n",
        "\u001b[1;32m/usr/local/lib/python2.7/dist-packages/pandas/core/internals.pyc\u001b[0m in \u001b[0;36m_check_have\u001b[1;34m(self, item)\u001b[0m\n\u001b[0;32m   1940\u001b[0m     \u001b[1;32mdef\u001b[0m \u001b[0m_check_have\u001b[0m\u001b[1;33m(\u001b[0m\u001b[0mself\u001b[0m\u001b[1;33m,\u001b[0m \u001b[0mitem\u001b[0m\u001b[1;33m)\u001b[0m\u001b[1;33m:\u001b[0m\u001b[1;33m\u001b[0m\u001b[0m\n\u001b[0;32m   1941\u001b[0m         \u001b[1;32mif\u001b[0m \u001b[0mitem\u001b[0m \u001b[1;32mnot\u001b[0m \u001b[1;32min\u001b[0m \u001b[0mself\u001b[0m\u001b[1;33m.\u001b[0m\u001b[0mitems\u001b[0m\u001b[1;33m:\u001b[0m\u001b[1;33m\u001b[0m\u001b[0m\n\u001b[1;32m-> 1942\u001b[1;33m             \u001b[1;32mraise\u001b[0m \u001b[0mKeyError\u001b[0m\u001b[1;33m(\u001b[0m\u001b[1;34m'no item named %s'\u001b[0m \u001b[1;33m%\u001b[0m \u001b[0mcom\u001b[0m\u001b[1;33m.\u001b[0m\u001b[0mpprint_thing\u001b[0m\u001b[1;33m(\u001b[0m\u001b[0mitem\u001b[0m\u001b[1;33m)\u001b[0m\u001b[1;33m)\u001b[0m\u001b[1;33m\u001b[0m\u001b[0m\n\u001b[0m\u001b[0;32m   1943\u001b[0m \u001b[1;33m\u001b[0m\u001b[0m\n\u001b[0;32m   1944\u001b[0m     \u001b[1;32mdef\u001b[0m \u001b[0mreindex_axis\u001b[0m\u001b[1;33m(\u001b[0m\u001b[0mself\u001b[0m\u001b[1;33m,\u001b[0m \u001b[0mnew_axis\u001b[0m\u001b[1;33m,\u001b[0m \u001b[0mmethod\u001b[0m\u001b[1;33m=\u001b[0m\u001b[0mNone\u001b[0m\u001b[1;33m,\u001b[0m \u001b[0maxis\u001b[0m\u001b[1;33m=\u001b[0m\u001b[1;36m0\u001b[0m\u001b[1;33m,\u001b[0m \u001b[0mcopy\u001b[0m\u001b[1;33m=\u001b[0m\u001b[0mTrue\u001b[0m\u001b[1;33m)\u001b[0m\u001b[1;33m:\u001b[0m\u001b[1;33m\u001b[0m\u001b[0m\n",
        "\u001b[1;31mKeyError\u001b[0m: u'no item named xi'"
       ]
      },
      {
       "metadata": {},
       "output_type": "display_data",
       "png": "[encoded data removed]",
       "text": [
        "<matplotlib.figure.Figure at 0x8e72790>"
       ]
      }
     ],
     "prompt_number": 142
    },
    {
     "cell_type": "markdown",
     "metadata": {},
     "source": [
      "### Distribution "
     ]
    },
    {
     "cell_type": "heading",
     "level": 3,
     "metadata": {},
     "source": [
      "Current Situation"
     ]
    },
    {
     "cell_type": "code",
     "collapsed": false,
     "input": [
      "records = np.array(df.records)\n",
      "x,y = rankorder(records)\n",
      "max(x)\n",
      "figure(1,(10,10))\n",
      "loglog(x,y,'o')\n",
      "xlabel(\"Loss\")\n",
      "ylabel(\"Rank-Ordering\")"
     ],
     "language": "python",
     "metadata": {},
     "outputs": []
    },
    {
     "cell_type": "code",
     "collapsed": false,
     "input": [
      "x,y = rankorder(df['loss'].values)\n",
      "close(1)\n",
      "figure(1,(17,6))\n",
      "\n",
      "subplot(121)\n",
      "plot(x/1e6,y,'s')\n",
      "ylim(ymin=-200)\n",
      "xlim(xmin=-5)\n",
      "xlabel(\"Data Loss (millions IDs)\")\n",
      "ylabel(\"Rank-Ordering\")\n",
      "\n",
      "subplot(122)\n",
      "loglog(x,y,'s')\n",
      "xlabel(\"Data Loss\")\n",
      "ylabel(\"Rank-Ordering\")\n",
      "\n",
      "savefig(\"%s/rankordering.eps\"%projectDir)\n",
      "\n"
     ],
     "language": "python",
     "metadata": {},
     "outputs": []
    },
    {
     "cell_type": "heading",
     "level": 3,
     "metadata": {},
     "source": [
      "Distribution (Evolution over Time)\n"
     ]
    },
    {
     "cell_type": "heading",
     "level": 2,
     "metadata": {},
     "source": [
      "Basic Time Series Plots"
     ]
    },
    {
     "cell_type": "heading",
     "level": 3,
     "metadata": {},
     "source": [
      "a. Double Linear Scale"
     ]
    },
    {
     "cell_type": "code",
     "collapsed": false,
     "input": [
      "close(1)\n",
      "figure(1,(13,6))\n",
      "subplot(121)\n",
      "df['cumEvents'].plot()\n",
      "xlabel(\"Time\")\n",
      "ylabel(\"Event Records\")\n",
      "\n",
      "subplot(122)\n",
      "df['cumLoss'].plot()\n",
      "xlabel(\"Time\",)\n",
      "ylabel(\"cumulative loss\")\n",
      "\n",
      "show()"
     ],
     "language": "python",
     "metadata": {},
     "outputs": []
    },
    {
     "cell_type": "heading",
     "level": 3,
     "metadata": {},
     "source": [
      "b. Semilog "
     ]
    },
    {
     "cell_type": "code",
     "collapsed": false,
     "input": [
      "close(2)\n",
      "figure(2,(13,6))\n",
      "subplot(121)\n",
      "semilogy(df.index,df['cumEvents'])\n",
      "xlabel(\"Time\")\n",
      "ylabel(\"event records\")\n",
      "\n",
      "subplot(122)\n",
      "semilogy(df.index,df['cumLoss'])\n",
      "xlabel(\"Time\")\n",
      "ylabel(\"cumulative loss\")\n",
      "\n",
      "show()\n"
     ],
     "language": "python",
     "metadata": {},
     "outputs": []
    },
    {
     "cell_type": "heading",
     "level": 3,
     "metadata": {},
     "source": [
      "c. Double Logarithm"
     ]
    },
    {
     "cell_type": "code",
     "collapsed": false,
     "input": [
      "close(3)\n",
      "figure(3,(13,6))\n",
      "subplot(121)\n",
      "loglog(df['relativeDate'],df['cumEvents'])\n",
      "xlabel(\"Time [days]\")\n",
      "ylabel(\"event records\")\n",
      "xlim(2000,df['relativeDate'].max())\n",
      "\n",
      "subplot(122)\n",
      "loglog(df['relativeDate'],df['cumLoss'])\n",
      "xlabel(\"Time [days]\")\n",
      "ylabel(\"cumulative loss\")\n",
      "xlim(2000,df['relativeDate'].max())\n"
     ],
     "language": "python",
     "metadata": {},
     "outputs": []
    },
    {
     "cell_type": "code",
     "collapsed": false,
     "input": [],
     "language": "python",
     "metadata": {},
     "outputs": []
    },
    {
     "cell_type": "heading",
     "level": 2,
     "metadata": {},
     "source": [
      "Fit Power Law Growth"
     ]
    },
    {
     "cell_type": "code",
     "collapsed": false,
     "input": [
      "dates = df['relativeDate']\n",
      "\n",
      "'''Take data from 2002'''\n",
      "c = ( dates > 2*365)*( dates < 10**4)\n",
      "\n",
      "logTdt4 = np.log10(dates[c])\n",
      "\n",
      "print len(dates[dates<2*365])\n",
      "\n",
      "\n",
      "events = df['cumEvents']\n",
      "logEvents = np.log10(events)[c]\n",
      "cumloss = df['cumLoss']\n",
      "logCumLoss = np.log10(cumloss)[c]\n",
      "\n",
      "\n",
      "\n",
      "fitEvents = stats.linregress(logTdt4,logEvents)\n",
      "fitCumLoss = stats.linregress(logTdt4,logCumLoss)\n",
      "\n",
      "print \"Fit Cumulative Events : \",fitEvents\n",
      "print \"Fit Cumulative Loss : \",fitCumLoss\n",
      "\n",
      "\n",
      "close(4)\n",
      "figure(4,(17,6))\n",
      "subplot(121)\n",
      "plot(logTdt4,logEvents,'-',lw=3)\n",
      "plot(logTdt4,logTdt4*fitEvents[0]+fitEvents[1],'r-',lw=3)\n",
      "xlabel(\"log10(Time) [days]\")\n",
      "ylabel(\"log10(Cumulative Events)\")\n",
      "#xlim(2000,Tdt3.max())\n",
      "\n",
      "pl.text(3.1,1.2,\"slope = %.2f \\n (p=%.2f , r = %.2f)\"%(fitEvents[0],fitEvents[3],fitEvents[2]), color=\"red\")\n",
      "\n",
      "subplot(122)\n",
      "plot(logTdt4,logCumLoss,'-',lw=3)\n",
      "plot(logTdt4,logTdt4*fitCumLoss[0]+fitCumLoss[1],'r-',lw=3)\n",
      "\n",
      "pl.text(3.2,6.2,\"slope = %.2f \\n (p=%.2f , r = %.2f)\"%(fitCumLoss[0],fitCumLoss[3],fitCumLoss[2]),color = \"red\")\n",
      "xlabel(\"log10(Time) [days]\")\n",
      "ylabel(\"log10(Cumulative Loss)\")\n",
      "savefig(\"%s/cumEventsLoss.eps\"%projectDir)\n",
      "\n",
      "show()\n",
      "\n",
      "#xlim(2000,Tdt3.max())\n",
      "\n"
     ],
     "language": "python",
     "metadata": {},
     "outputs": []
    },
    {
     "cell_type": "code",
     "collapsed": false,
     "input": [
      "print fitEvents[0],fitCumLoss[0],0.7, fitEvents[0]/0.5"
     ],
     "language": "python",
     "metadata": {},
     "outputs": []
    },
    {
     "cell_type": "code",
     "collapsed": false,
     "input": [],
     "language": "python",
     "metadata": {},
     "outputs": []
    },
    {
     "cell_type": "heading",
     "level": 3,
     "metadata": {},
     "source": [
      "Prediction"
     ]
    },
    {
     "cell_type": "code",
     "collapsed": false,
     "input": [
      "fig, ax1 = subplots()\n",
      "\n",
      "lx = np.linspace(logTdt4.min(),logTdt4.max(),20)\n",
      "\n",
      "x= (10**(lx))/365.+2000.\n",
      "\n",
      "ax1.plot(x,10**(lx*fitEvents[0]+fitEvents[1]),'b-o',lw=2)\n",
      "ax1.set_xlabel('Time [years]')\n",
      "ylim(ymax=10000)\n",
      "# Make the y-axis label and tick labels match the line color.\n",
      "\n",
      "\n",
      "ax1.set_ylabel('Cumulative Events', color='b')\n",
      "for tl in ax1.get_yticklabels():\n",
      "    tl.set_color('b')\n",
      "\n",
      "ax2 = ax1.twinx()\n",
      "ax2.plot(x,10**(lx*fitCumLoss[0]+fitCumLoss[1])/(1.e9)*1000,'r-s',lw=2)\n",
      "ax2.set_ylabel('Cumulative Loss \\n [millions IDs]', color='r')\n",
      "for tl in ax2.get_yticklabels():\n",
      "    tl.set_color('r')\n",
      "ylim(0,1000.)\n",
      "xlim(2005,2015)\n",
      "show()\n",
      "\n",
      "\n",
      "ax2.ticklabel_format(axis='x', style='plain',scilimits=(0,1000))\n"
     ],
     "language": "python",
     "metadata": {},
     "outputs": []
    },
    {
     "cell_type": "code",
     "collapsed": false,
     "input": [
      "fig, ax1 = subplots(figsize=(12,9))\n",
      "\n",
      "lx = np.linspace(logTdt4.min(),logTdt4.max(),50)\n",
      "lx_pred = np.linspace(logTdt4.min(),np.log10(20*365),50)\n",
      "\n",
      "x= (10**lx)/365.+2000.\n",
      "x_pred = (10**lx_pred)/365.+2000.\n",
      "\n",
      "x_emp = (10**logTdt4)/365.+2000\n",
      "x_emp = np.concatenate([[x_emp[0]],x_emp,[x_emp[-1]]])\n",
      "\n",
      "E_emp = np.concatenate([[0],10**logEvents.values,[0]])\n",
      "L_emp = np.concatenate([[0],(10**logCumLoss.values)/(1.e9)*1000,[0]])\n",
      "\n",
      "pl.xticks(rotation=70)\n",
      "\n",
      "ax1.fill(x_emp,E_emp,'+',lw=0,alpha=0.65)\n",
      "#ax1.plot(x,10**(lx*fitEvents[0]+fitEvents[1]),'b-o',lw=2)\n",
      "ax1.plot(x_pred,10**(lx_pred*fitEvents[0]+fitEvents[1]),'b--',lw=2)\n",
      "ax1.set_xlabel('Time [years]')\n",
      "\n",
      "ylim(ymax=80000)\n",
      "# Make the y-axis label and tick labels match the line color.\n",
      "\n",
      "\n",
      "ax1.set_ylabel('Cumulative Events', color='b')\n",
      "for tl in ax1.get_yticklabels():\n",
      "    tl.set_color('b')\n",
      "\n",
      "ax2 = ax1.twinx()\n",
      "ax2.fill(x_emp,L_emp,'r-',lw=0,alpha=0.65)\n",
      "#ax2.plot(x,10**(lx*fitCumLoss[0]+fitCumLoss[1])/(1.e9)*1000,'r-s',lw=2,ms=4)\n",
      "ax2.plot(x_pred,10**(lx_pred*fitCumLoss[0]+fitCumLoss[1])/(1.e9)*1000,'r--',lw=1)\n",
      "ax2.set_ylabel('Cumulative Loss \\n [millions IDs]', color='r')\n",
      "\n",
      "for tl in ax2.get_yticklabels():\n",
      "    tl.set_color('r')\n",
      "ylim(0,8000.)\n",
      "xlim(2005,2021)\n",
      "savefig(\"%s/predictions.eps\"%projectDir)\n",
      "\n",
      "ax2.ticklabel_format(axis='x', style='plain',scilimits=(0,1000))\n"
     ],
     "language": "python",
     "metadata": {},
     "outputs": []
    },
    {
     "cell_type": "code",
     "collapsed": false,
     "input": [
      "c = x_pred <= 2020\n",
      "print 10**(lx_pred*fitEvents[0]+fitEvents[1])[c][-1]\n",
      "print 10**(lx_pred*fitCumLoss[0]+fitCumLoss[1])[c][-1]/(1.e9)*1000"
     ],
     "language": "python",
     "metadata": {},
     "outputs": []
    },
    {
     "cell_type": "code",
     "collapsed": false,
     "input": [
      "x_emp"
     ],
     "language": "python",
     "metadata": {},
     "outputs": []
    },
    {
     "cell_type": "heading",
     "level": 2,
     "metadata": {},
     "source": [
      "Fit Exponential Growth"
     ]
    },
    {
     "cell_type": "code",
     "collapsed": false,
     "input": [
      "print stats.linregress(Tdt3[c],logEvents)\n",
      "print stats.linregress(Tdt3[c],logCumLoss)"
     ],
     "language": "python",
     "metadata": {},
     "outputs": []
    },
    {
     "cell_type": "code",
     "collapsed": false,
     "input": [
      "plot(Tdt3[c],logCumLoss)"
     ],
     "language": "python",
     "metadata": {},
     "outputs": []
    },
    {
     "cell_type": "heading",
     "level": 2,
     "metadata": {},
     "source": [
      "Some Tests"
     ]
    },
    {
     "cell_type": "code",
     "collapsed": false,
     "input": [
      "x = np.arange(1,100)\n",
      "f1 = np.exp(0.000489*x)\n",
      "f2 = x**4.0878\n",
      "plot(x,f1,'r-')\n",
      "plot(x,f2,'b-')\n",
      "#plot(x,x)\n",
      "show()"
     ],
     "language": "python",
     "metadata": {},
     "outputs": []
    },
    {
     "cell_type": "code",
     "collapsed": false,
     "input": [
      "(fitEvents[0])/fitCumLoss[0]"
     ],
     "language": "python",
     "metadata": {},
     "outputs": []
    },
    {
     "cell_type": "code",
     "collapsed": false,
     "input": [
      "10**logCumLoss.values"
     ],
     "language": "python",
     "metadata": {},
     "outputs": []
    },
    {
     "cell_type": "code",
     "collapsed": false,
     "input": [
      "E_emp[-2:]"
     ],
     "language": "python",
     "metadata": {},
     "outputs": []
    },
    {
     "cell_type": "code",
     "collapsed": false,
     "input": [
      "records = np.array(map(int,records))"
     ],
     "language": "python",
     "metadata": {},
     "outputs": []
    },
    {
     "cell_type": "code",
     "collapsed": false,
     "input": [
      "len(records[c])"
     ],
     "language": "python",
     "metadata": {},
     "outputs": []
    },
    {
     "cell_type": "code",
     "collapsed": false,
     "input": [
      "records"
     ],
     "language": "python",
     "metadata": {},
     "outputs": []
    }
   ],
   "metadata": {}
  }
 ]
}